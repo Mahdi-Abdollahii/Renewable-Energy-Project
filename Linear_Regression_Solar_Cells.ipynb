{
  "nbformat": 4,
  "nbformat_minor": 0,
  "metadata": {
    "colab": {
      "provenance": [],
      "authorship_tag": "ABX9TyNOy+WDP1qjPHaOzteqQVg7",
      "include_colab_link": true
    },
    "kernelspec": {
      "name": "python3",
      "display_name": "Python 3"
    },
    "language_info": {
      "name": "python"
    },
    "accelerator": "GPU",
    "gpuClass": "standard"
  },
  "cells": [
    {
      "cell_type": "markdown",
      "metadata": {
        "id": "view-in-github",
        "colab_type": "text"
      },
      "source": [
        "<a href=\"https://colab.research.google.com/github/Mahdi-Abdollahii/Renewable-Energy-Project/blob/main/Linear_Regression_Solar_Cells.ipynb\" target=\"_parent\"><img src=\"https://colab.research.google.com/assets/colab-badge.svg\" alt=\"Open In Colab\"/></a>"
      ]
    },
    {
      "cell_type": "code",
      "source": [
        "!git clone https://github.com/Mahdi-Abdollahii/Renewable-Energy-Project.git"
      ],
      "metadata": {
        "colab": {
          "base_uri": "https://localhost:8080/"
        },
        "id": "udMNarMNKg8o",
        "outputId": "3b1df28e-c0c0-4442-de95-0284a5013bea"
      },
      "execution_count": 1,
      "outputs": [
        {
          "output_type": "stream",
          "name": "stdout",
          "text": [
            "Cloning into 'Renewable-Energy-Project'...\n",
            "remote: Enumerating objects: 109, done.\u001b[K\n",
            "remote: Counting objects: 100% (25/25), done.\u001b[K\n",
            "remote: Compressing objects: 100% (19/19), done.\u001b[K\n",
            "remote: Total 109 (delta 14), reused 6 (delta 6), pack-reused 84\u001b[K\n",
            "Receiving objects: 100% (109/109), 838.76 KiB | 6.55 MiB/s, done.\n",
            "Resolving deltas: 100% (39/39), done.\n"
          ]
        }
      ]
    },
    {
      "cell_type": "code",
      "execution_count": 2,
      "metadata": {
        "id": "zU_Xp1Y1F4_9"
      },
      "outputs": [],
      "source": [
        "import matplotlib.pylab as plt\n",
        "import pandas as pd\n",
        "import numpy as np\n",
        "import csv\n",
        "from scipy import stats"
      ]
    },
    {
      "cell_type": "markdown",
      "source": [
        "## Regression"
      ],
      "metadata": {
        "id": "dV1Q2i6_Ubm4"
      }
    },
    {
      "cell_type": "code",
      "source": [
        "df = pd.read_csv(\"/content/Renewable-Energy-Project/Data/solar-pv-cumulative-capacity.csv\")"
      ],
      "metadata": {
        "id": "CyeRq_caao6G"
      },
      "execution_count": 3,
      "outputs": []
    },
    {
      "cell_type": "code",
      "source": [
        "df"
      ],
      "metadata": {
        "colab": {
          "base_uri": "https://localhost:8080/",
          "height": 423
        },
        "id": "-POJicUj9z59",
        "outputId": "b7bc3bf4-c323-4a04-94d0-7dbd6f927973"
      },
      "execution_count": 4,
      "outputs": [
        {
          "output_type": "execute_result",
          "data": {
            "text/plain": [
              "      Entity      Code  Year  Solar Capacity\n",
              "0     Africa       NaN  1996        1.112425\n",
              "1     Africa       NaN  1997        3.137276\n",
              "2     Africa       NaN  1998        5.162126\n",
              "3     Africa       NaN  1999        8.199402\n",
              "4     Africa       NaN  2000       10.927000\n",
              "...      ...       ...   ...             ...\n",
              "1654   World  OWID_WRL  2017   390206.530000\n",
              "1655   World  OWID_WRL  2018   483011.800000\n",
              "1656   World  OWID_WRL  2019   584685.700000\n",
              "1657   World  OWID_WRL  2020   710281.100000\n",
              "1658   World  OWID_WRL  2021   843086.060000\n",
              "\n",
              "[1659 rows x 4 columns]"
            ],
            "text/html": [
              "\n",
              "  <div id=\"df-11ae4d7c-bdeb-46e1-ba0c-86bcff41b8e5\">\n",
              "    <div class=\"colab-df-container\">\n",
              "      <div>\n",
              "<style scoped>\n",
              "    .dataframe tbody tr th:only-of-type {\n",
              "        vertical-align: middle;\n",
              "    }\n",
              "\n",
              "    .dataframe tbody tr th {\n",
              "        vertical-align: top;\n",
              "    }\n",
              "\n",
              "    .dataframe thead th {\n",
              "        text-align: right;\n",
              "    }\n",
              "</style>\n",
              "<table border=\"1\" class=\"dataframe\">\n",
              "  <thead>\n",
              "    <tr style=\"text-align: right;\">\n",
              "      <th></th>\n",
              "      <th>Entity</th>\n",
              "      <th>Code</th>\n",
              "      <th>Year</th>\n",
              "      <th>Solar Capacity</th>\n",
              "    </tr>\n",
              "  </thead>\n",
              "  <tbody>\n",
              "    <tr>\n",
              "      <th>0</th>\n",
              "      <td>Africa</td>\n",
              "      <td>NaN</td>\n",
              "      <td>1996</td>\n",
              "      <td>1.112425</td>\n",
              "    </tr>\n",
              "    <tr>\n",
              "      <th>1</th>\n",
              "      <td>Africa</td>\n",
              "      <td>NaN</td>\n",
              "      <td>1997</td>\n",
              "      <td>3.137276</td>\n",
              "    </tr>\n",
              "    <tr>\n",
              "      <th>2</th>\n",
              "      <td>Africa</td>\n",
              "      <td>NaN</td>\n",
              "      <td>1998</td>\n",
              "      <td>5.162126</td>\n",
              "    </tr>\n",
              "    <tr>\n",
              "      <th>3</th>\n",
              "      <td>Africa</td>\n",
              "      <td>NaN</td>\n",
              "      <td>1999</td>\n",
              "      <td>8.199402</td>\n",
              "    </tr>\n",
              "    <tr>\n",
              "      <th>4</th>\n",
              "      <td>Africa</td>\n",
              "      <td>NaN</td>\n",
              "      <td>2000</td>\n",
              "      <td>10.927000</td>\n",
              "    </tr>\n",
              "    <tr>\n",
              "      <th>...</th>\n",
              "      <td>...</td>\n",
              "      <td>...</td>\n",
              "      <td>...</td>\n",
              "      <td>...</td>\n",
              "    </tr>\n",
              "    <tr>\n",
              "      <th>1654</th>\n",
              "      <td>World</td>\n",
              "      <td>OWID_WRL</td>\n",
              "      <td>2017</td>\n",
              "      <td>390206.530000</td>\n",
              "    </tr>\n",
              "    <tr>\n",
              "      <th>1655</th>\n",
              "      <td>World</td>\n",
              "      <td>OWID_WRL</td>\n",
              "      <td>2018</td>\n",
              "      <td>483011.800000</td>\n",
              "    </tr>\n",
              "    <tr>\n",
              "      <th>1656</th>\n",
              "      <td>World</td>\n",
              "      <td>OWID_WRL</td>\n",
              "      <td>2019</td>\n",
              "      <td>584685.700000</td>\n",
              "    </tr>\n",
              "    <tr>\n",
              "      <th>1657</th>\n",
              "      <td>World</td>\n",
              "      <td>OWID_WRL</td>\n",
              "      <td>2020</td>\n",
              "      <td>710281.100000</td>\n",
              "    </tr>\n",
              "    <tr>\n",
              "      <th>1658</th>\n",
              "      <td>World</td>\n",
              "      <td>OWID_WRL</td>\n",
              "      <td>2021</td>\n",
              "      <td>843086.060000</td>\n",
              "    </tr>\n",
              "  </tbody>\n",
              "</table>\n",
              "<p>1659 rows × 4 columns</p>\n",
              "</div>\n",
              "      <button class=\"colab-df-convert\" onclick=\"convertToInteractive('df-11ae4d7c-bdeb-46e1-ba0c-86bcff41b8e5')\"\n",
              "              title=\"Convert this dataframe to an interactive table.\"\n",
              "              style=\"display:none;\">\n",
              "        \n",
              "  <svg xmlns=\"http://www.w3.org/2000/svg\" height=\"24px\"viewBox=\"0 0 24 24\"\n",
              "       width=\"24px\">\n",
              "    <path d=\"M0 0h24v24H0V0z\" fill=\"none\"/>\n",
              "    <path d=\"M18.56 5.44l.94 2.06.94-2.06 2.06-.94-2.06-.94-.94-2.06-.94 2.06-2.06.94zm-11 1L8.5 8.5l.94-2.06 2.06-.94-2.06-.94L8.5 2.5l-.94 2.06-2.06.94zm10 10l.94 2.06.94-2.06 2.06-.94-2.06-.94-.94-2.06-.94 2.06-2.06.94z\"/><path d=\"M17.41 7.96l-1.37-1.37c-.4-.4-.92-.59-1.43-.59-.52 0-1.04.2-1.43.59L10.3 9.45l-7.72 7.72c-.78.78-.78 2.05 0 2.83L4 21.41c.39.39.9.59 1.41.59.51 0 1.02-.2 1.41-.59l7.78-7.78 2.81-2.81c.8-.78.8-2.07 0-2.86zM5.41 20L4 18.59l7.72-7.72 1.47 1.35L5.41 20z\"/>\n",
              "  </svg>\n",
              "      </button>\n",
              "      \n",
              "  <style>\n",
              "    .colab-df-container {\n",
              "      display:flex;\n",
              "      flex-wrap:wrap;\n",
              "      gap: 12px;\n",
              "    }\n",
              "\n",
              "    .colab-df-convert {\n",
              "      background-color: #E8F0FE;\n",
              "      border: none;\n",
              "      border-radius: 50%;\n",
              "      cursor: pointer;\n",
              "      display: none;\n",
              "      fill: #1967D2;\n",
              "      height: 32px;\n",
              "      padding: 0 0 0 0;\n",
              "      width: 32px;\n",
              "    }\n",
              "\n",
              "    .colab-df-convert:hover {\n",
              "      background-color: #E2EBFA;\n",
              "      box-shadow: 0px 1px 2px rgba(60, 64, 67, 0.3), 0px 1px 3px 1px rgba(60, 64, 67, 0.15);\n",
              "      fill: #174EA6;\n",
              "    }\n",
              "\n",
              "    [theme=dark] .colab-df-convert {\n",
              "      background-color: #3B4455;\n",
              "      fill: #D2E3FC;\n",
              "    }\n",
              "\n",
              "    [theme=dark] .colab-df-convert:hover {\n",
              "      background-color: #434B5C;\n",
              "      box-shadow: 0px 1px 3px 1px rgba(0, 0, 0, 0.15);\n",
              "      filter: drop-shadow(0px 1px 2px rgba(0, 0, 0, 0.3));\n",
              "      fill: #FFFFFF;\n",
              "    }\n",
              "  </style>\n",
              "\n",
              "      <script>\n",
              "        const buttonEl =\n",
              "          document.querySelector('#df-11ae4d7c-bdeb-46e1-ba0c-86bcff41b8e5 button.colab-df-convert');\n",
              "        buttonEl.style.display =\n",
              "          google.colab.kernel.accessAllowed ? 'block' : 'none';\n",
              "\n",
              "        async function convertToInteractive(key) {\n",
              "          const element = document.querySelector('#df-11ae4d7c-bdeb-46e1-ba0c-86bcff41b8e5');\n",
              "          const dataTable =\n",
              "            await google.colab.kernel.invokeFunction('convertToInteractive',\n",
              "                                                     [key], {});\n",
              "          if (!dataTable) return;\n",
              "\n",
              "          const docLinkHtml = 'Like what you see? Visit the ' +\n",
              "            '<a target=\"_blank\" href=https://colab.research.google.com/notebooks/data_table.ipynb>data table notebook</a>'\n",
              "            + ' to learn more about interactive tables.';\n",
              "          element.innerHTML = '';\n",
              "          dataTable['output_type'] = 'display_data';\n",
              "          await google.colab.output.renderOutput(dataTable, element);\n",
              "          const docLink = document.createElement('div');\n",
              "          docLink.innerHTML = docLinkHtml;\n",
              "          element.appendChild(docLink);\n",
              "        }\n",
              "      </script>\n",
              "    </div>\n",
              "  </div>\n",
              "  "
            ]
          },
          "metadata": {},
          "execution_count": 4
        }
      ]
    },
    {
      "cell_type": "code",
      "source": [
        "X_year = np.array(df[df['Code'] == 'OWID_WRL']['Year'])"
      ],
      "metadata": {
        "id": "-0qqutQCbZEC"
      },
      "execution_count": 5,
      "outputs": []
    },
    {
      "cell_type": "code",
      "source": [
        "Y_cons = np.log10(np.array(df[df['Code'] == 'OWID_WRL']['Solar Capacity']))"
      ],
      "metadata": {
        "id": "B_mmB01mbrQQ"
      },
      "execution_count": 19,
      "outputs": []
    },
    {
      "cell_type": "code",
      "source": [
        "from sklearn.model_selection import train_test_split\n",
        "\n",
        "X_train, X_test, y_train, y_test = train_test_split(X_year.reshape(-1, 1), Y_cons.reshape(-1, 1) , test_size=0.5)"
      ],
      "metadata": {
        "id": "clD-9iCFW6XQ"
      },
      "execution_count": 20,
      "outputs": []
    },
    {
      "cell_type": "code",
      "source": [
        "from sklearn import datasets, linear_model\n",
        "from sklearn.metrics import mean_squared_error, r2_score\n",
        "\n",
        "# Create linear regression object\n",
        "regr = linear_model.LinearRegression()\n",
        "\n",
        "# Train the model using the training sets\n",
        "regr.fit( X_train, y_train)\n",
        "\n",
        "# Make predictions using the testing set\n",
        "y_pred = regr.predict(X_test)"
      ],
      "metadata": {
        "id": "etclRuZrZjCx"
      },
      "execution_count": 21,
      "outputs": []
    },
    {
      "cell_type": "code",
      "source": [
        "from matplotlib.lines import MarkerStyle\n",
        "# The coefficients\n",
        "print(\"Coefficients: %f \" % regr.coef_)\n",
        "# The intercept\n",
        "print(\"intercept: %f \" % regr.intercept_)\n",
        "# The mean squared error\n",
        "print(\"Mean squared error: %.2f\" % mean_squared_error(y_test, y_pred))\n",
        "# The coefficient of determination: 1 is perfect prediction\n",
        "print(\"Coefficient of determination: %.2f\" % r2_score(y_test, y_pred))\n"
      ],
      "metadata": {
        "colab": {
          "base_uri": "https://localhost:8080/"
        },
        "id": "33jLhr36Zxch",
        "outputId": "68b61908-9ff0-4d3d-b080-fcdaff1dcf5e"
      },
      "execution_count": 34,
      "outputs": [
        {
          "output_type": "stream",
          "name": "stdout",
          "text": [
            "Coefficients: 0.161138 \n",
            "intercept: -319.414470 \n",
            "Mean squared error: 0.02\n",
            "Coefficient of determination: 0.99\n"
          ]
        }
      ]
    },
    {
      "cell_type": "code",
      "source": [
        "fig,axe = plt.subplots(1,1,figsize = (10, 5))\n",
        "# Plot outputs\n",
        "axe.scatter(X_train, y_train, color=\"maroon\" , s = 15 , label= \"actual data\" )\n",
        "axe.scatter(X_test, y_test, color=\"maroon\" , s = 15 )\n",
        "\n",
        "X_future = np.array([range(1996,2040,1)]).reshape(-1,1)\n",
        "y_future = regr.predict(X_future)\n",
        "sigma = np.sqrt(np.var(y_future[0:len(Y_cons.reshape(-1))].reshape(-1) - Y_cons.reshape(-1)))\n",
        "\n",
        "axe.plot(X_future , y_future , color=\"green\", linewidth=1 , label = \"fitted line\")\n",
        "axe.plot(X_future , y_future - sigma , color=\"green\", linewidth=1,  linestyle='dashed' , label = '1$\\sigma$ line'  )\n",
        "axe.plot(X_future , y_future + sigma , color=\"green\", linewidth=1,  linestyle='dashed' )\n",
        "\n",
        "\n",
        "#axe.set_title(\"Energy consumption in the world from 1965 to 2021 \\n and a fitted regression line with its 1$\\sigma$ lines\" , fontname = 'serif')\n",
        "axe.set_xlabel('Years', fontname = 'serif')\n",
        "axe.set_ylabel('Log (Capacity [MW])', fontname = 'serif')\n",
        "plt.legend()\n",
        "\n",
        "plt.savefig('Solar_Cell_Capacity.png',dpi=2000)"
      ],
      "metadata": {
        "colab": {
          "base_uri": "https://localhost:8080/",
          "height": 333
        },
        "id": "mD8RY71HLHHs",
        "outputId": "d4a78f82-eead-48d3-fefe-a7eea17e3eab"
      },
      "execution_count": 38,
      "outputs": [
        {
          "output_type": "display_data",
          "data": {
            "text/plain": [
              "<Figure size 720x360 with 1 Axes>"
            ],
            "image/png": "[encoded data removed]"
          },
          "metadata": {
            "needs_background": "light"
          }
        }
      ]
    },
    {
      "cell_type": "code",
      "source": [],
      "metadata": {
        "id": "unpu30ntdV-S"
      },
      "execution_count": null,
      "outputs": []
    }
  ]
}