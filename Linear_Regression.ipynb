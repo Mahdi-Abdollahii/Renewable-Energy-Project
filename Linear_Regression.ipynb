{
  "nbformat": 4,
  "nbformat_minor": 0,
  "metadata": {
    "colab": {
      "provenance": [],
      "collapsed_sections": [
        "iD2Z6RhrUXTT"
      ],
      "authorship_tag": "ABX9TyNAXN+VrCWuJTK1p4o/GFBW",
      "include_colab_link": true
    },
    "kernelspec": {
      "name": "python3",
      "display_name": "Python 3"
    },
    "language_info": {
      "name": "python"
    },
    "accelerator": "GPU",
    "gpuClass": "standard"
  },
  "cells": [
    {
      "cell_type": "markdown",
      "metadata": {
        "id": "view-in-github",
        "colab_type": "text"
      },
      "source": [
        "<a href=\"https://colab.research.google.com/github/Mahdi-Abdollahii/Renewable-Energy-Project/blob/main/Linear_Regression.ipynb\" target=\"_parent\"><img src=\"https://colab.research.google.com/assets/colab-badge.svg\" alt=\"Open In Colab\"/></a>"
      ]
    },
    {
      "cell_type": "code",
      "source": [
        "!git clone https://github.com/Mahdi-Abdollahii/Renewable-Energy-Project.git"
      ],
      "metadata": {
        "colab": {
          "base_uri": "https://localhost:8080/"
        },
        "id": "udMNarMNKg8o",
        "outputId": "4c3d0ec2-ff4a-40db-9a6d-8d54078075a1"
      },
      "execution_count": 1,
      "outputs": [
        {
          "output_type": "stream",
          "name": "stdout",
          "text": [
            "Cloning into 'Renewable-Energy-Project'...\n",
            "remote: Enumerating objects: 97, done.\u001b[K\n",
            "remote: Counting objects: 100% (97/97), done.\u001b[K\n",
            "remote: Compressing objects: 100% (91/91), done.\u001b[K\n",
            "remote: Total 97 (delta 36), reused 2 (delta 1), pack-reused 0\u001b[K\n",
            "Unpacking objects: 100% (97/97), 706.21 KiB | 4.74 MiB/s, done.\n"
          ]
        }
      ]
    },
    {
      "cell_type": "code",
      "execution_count": 2,
      "metadata": {
        "id": "zU_Xp1Y1F4_9"
      },
      "outputs": [],
      "source": [
        "import matplotlib.pylab as plt\n",
        "import pandas as pd\n",
        "import numpy as np\n",
        "import csv\n",
        "from scipy import stats"
      ]
    },
    {
      "cell_type": "code",
      "source": [
        "df = pd.read_csv(\"/content/Renewable-Energy-Project/Data/World_1980_2021.csv\", index_col= 'Unnamed: 0')\n",
        "df = df.astype(float)"
      ],
      "metadata": {
        "id": "jKxtsbPXHuog"
      },
      "execution_count": null,
      "outputs": []
    },
    {
      "cell_type": "code",
      "source": [
        "Y_cons = np.array(df[df.index == 'Consumption (terajoules)'])\n",
        "Y_Prod = np.array(df[df.index == 'Production (terajoules)'])\n",
        "X_year = np.array(df.columns )"
      ],
      "metadata": {
        "id": "p-G0-oYuH1kr"
      },
      "execution_count": null,
      "outputs": []
    },
    {
      "cell_type": "code",
      "source": [
        "X_year[::5]"
      ],
      "metadata": {
        "colab": {
          "base_uri": "https://localhost:8080/"
        },
        "id": "CRxQFftGN1D8",
        "outputId": "078f16c8-b2a3-4794-a1e9-71b0d818237c"
      },
      "execution_count": null,
      "outputs": [
        {
          "output_type": "execute_result",
          "data": {
            "text/plain": [
              "array(['1980', '1985', '1990', '1995', '2000', '2005', '2010', '2015',\n",
              "       '2020'], dtype=object)"
            ]
          },
          "metadata": {},
          "execution_count": 11
        }
      ]
    },
    {
      "cell_type": "code",
      "source": [
        "fig,axe = plt.subplots(1,1,figsize = (10, 5))\n",
        "\n",
        "axe.plot(X_year,Y_cons.reshape(-1),label= 'Consumption')\n",
        "axe.plot(X_year,Y_Prod.reshape(-1),label= 'Production')\n",
        "axe.set_title(\"Energy consumption and production \\n in the world from 1980 to 2021\" , fontname = 'serif')\n",
        "axe.set_xlabel('Years', fontname = 'serif')\n",
        "axe.set_ylabel('E [Joules]', fontname = 'serif')\n",
        "axe.set_xticks(X_year[::5])\n",
        "plt.legend()\n",
        "plt.savefig('energy_consume_production.png',dpi=2000)"
      ],
      "metadata": {
        "colab": {
          "base_uri": "https://localhost:8080/",
          "height": 364
        },
        "id": "MGpwM-WcH3eL",
        "outputId": "73f75aca-5d40-476a-be62-c9a6254781a7"
      },
      "execution_count": null,
      "outputs": [
        {
          "output_type": "display_data",
          "data": {
            "text/plain": [
              "<Figure size 720x360 with 1 Axes>"
            ],
            "image/png": "[encoded data removed]"
          },
          "metadata": {
            "needs_background": "light"
          }
        }
      ]
    },
    {
      "cell_type": "markdown",
      "source": [
        "## Reg"
      ],
      "metadata": {
        "id": "dV1Q2i6_Ubm4"
      }
    },
    {
      "cell_type": "code",
      "source": [
        "df = pd.read_csv(\"/content/Renewable-Energy-Project/Data/Energy_consumption_(OWD).csv\")"
      ],
      "metadata": {
        "id": "CyeRq_caao6G"
      },
      "execution_count": 5,
      "outputs": []
    },
    {
      "cell_type": "code",
      "source": [
        "df"
      ],
      "metadata": {
        "id": "EYRgu3t4a7PF",
        "outputId": "c4279a42-e2a0-4849-eadb-0f1bd3a60ffc",
        "colab": {
          "base_uri": "https://localhost:8080/",
          "height": 574
        }
      },
      "execution_count": 6,
      "outputs": [
        {
          "output_type": "execute_result",
          "data": {
            "text/plain": [
              "      Entity      Code  Year  Geo Biomass Other - TWh (zero filled)  \\\n",
              "0     Africa       NaN  1965                                0.00000   \n",
              "1     Africa       NaN  1966                                0.00000   \n",
              "2     Africa       NaN  1967                                0.00000   \n",
              "3     Africa       NaN  1968                                0.00000   \n",
              "4     Africa       NaN  1969                                0.00000   \n",
              "...      ...       ...   ...                                    ...   \n",
              "5977   World  OWID_WRL  2017                              596.42050   \n",
              "5978   World  OWID_WRL  2018                              643.03204   \n",
              "5979   World  OWID_WRL  2019                              674.74536   \n",
              "5980   World  OWID_WRL  2020                              703.91644   \n",
              "5981   World  OWID_WRL  2021                              762.78265   \n",
              "\n",
              "      Biofuels Consumption - TWh - Total (zero filled)  \\\n",
              "0                                               0.0000   \n",
              "1                                               0.0000   \n",
              "2                                               0.0000   \n",
              "3                                               0.0000   \n",
              "4                                               0.0000   \n",
              "...                                                ...   \n",
              "5977                                          972.5343   \n",
              "5978                                         1045.9080   \n",
              "5979                                         1120.1494   \n",
              "5980                                         1065.5650   \n",
              "5981                                         1139.9211   \n",
              "\n",
              "      Solar Consumption - TWh (zero filled)  \\\n",
              "0                                    0.0000   \n",
              "1                                    0.0000   \n",
              "2                                    0.0000   \n",
              "3                                    0.0000   \n",
              "4                                    0.0000   \n",
              "...                                     ...   \n",
              "5977                              1185.5151   \n",
              "5978                              1524.5498   \n",
              "5979                              1855.5922   \n",
              "5980                              2222.4430   \n",
              "5981                              2701.7222   \n",
              "\n",
              "      Wind Consumption - TWh (zero filled)  \\\n",
              "0                                   0.0000   \n",
              "1                                   0.0000   \n",
              "2                                   0.0000   \n",
              "3                                   0.0000   \n",
              "4                                   0.0000   \n",
              "...                                    ...   \n",
              "5977                             3034.9170   \n",
              "5978                             3360.0188   \n",
              "5979                             3744.5151   \n",
              "5980                             4192.6820   \n",
              "5981                             4872.0950   \n",
              "\n",
              "      Hydro Consumption - TWh (zero filled)  \\\n",
              "0                                 41.118813   \n",
              "1                                 45.862915   \n",
              "2                                 47.875538   \n",
              "3                                 56.000473   \n",
              "4                                 65.352100   \n",
              "...                                     ...   \n",
              "5977                           10831.405000   \n",
              "5978                           11067.518000   \n",
              "5979                           11153.792000   \n",
              "5980                           11413.828000   \n",
              "5981                           11183.226000   \n",
              "\n",
              "      Nuclear Consumption - TWh (zero filled)  \\\n",
              "0                                      0.0000   \n",
              "1                                      0.0000   \n",
              "2                                      0.0000   \n",
              "3                                      0.0000   \n",
              "4                                      0.0000   \n",
              "...                                       ...   \n",
              "5977                                6734.8735   \n",
              "5978                                6856.0166   \n",
              "5979                                7073.2896   \n",
              "5980                                6789.3020   \n",
              "5981                                7031.3400   \n",
              "\n",
              "      Gas Consumption - TWh (zero filled)  \\\n",
              "0                                9.543755   \n",
              "1                               10.669916   \n",
              "2                               10.545670   \n",
              "3                               10.688970   \n",
              "4                               12.492000   \n",
              "...                                   ...   \n",
              "5977                         36529.223000   \n",
              "5978                         38356.300000   \n",
              "5979                         39062.945000   \n",
              "5980                         38455.727000   \n",
              "5981                         40374.605000   \n",
              "\n",
              "      Coal Consumption - TWh (zero filled)  \\\n",
              "0                                323.49612   \n",
              "1                                323.12220   \n",
              "2                                330.29156   \n",
              "3                                343.51290   \n",
              "4                                346.64294   \n",
              "...                                    ...   \n",
              "5977                           43751.67600   \n",
              "5978                           44315.87500   \n",
              "5979                           43699.88700   \n",
              "5980                           41963.96500   \n",
              "5981                           44473.19500   \n",
              "\n",
              "      Oil Consumption - TWh (zero filled)  \n",
              "0                               341.26276  \n",
              "1                               369.48657  \n",
              "2                               368.12524  \n",
              "3                               389.19986  \n",
              "4                               396.92285  \n",
              "...                                   ...  \n",
              "5977                          52515.54300  \n",
              "5978                          53250.62000  \n",
              "5979                          53368.63000  \n",
              "5980                          48380.71000  \n",
              "5981                          51170.47300  \n",
              "\n",
              "[5982 rows x 12 columns]"
            ],
            "text/html": [
              "\n",
              "  <div id=\"df-d3029b91-e51c-4bd6-8818-a0a2c5c6d4c9\">\n",
              "    <div class=\"colab-df-container\">\n",
              "      <div>\n",
              "<style scoped>\n",
              "    .dataframe tbody tr th:only-of-type {\n",
              "        vertical-align: middle;\n",
              "    }\n",
              "\n",
              "    .dataframe tbody tr th {\n",
              "        vertical-align: top;\n",
              "    }\n",
              "\n",
              "    .dataframe thead th {\n",
              "        text-align: right;\n",
              "    }\n",
              "</style>\n",
              "<table border=\"1\" class=\"dataframe\">\n",
              "  <thead>\n",
              "    <tr style=\"text-align: right;\">\n",
              "      <th></th>\n",
              "      <th>Entity</th>\n",
              "      <th>Code</th>\n",
              "      <th>Year</th>\n",
              "      <th>Geo Biomass Other - TWh (zero filled)</th>\n",
              "      <th>Biofuels Consumption - TWh - Total (zero filled)</th>\n",
              "      <th>Solar Consumption - TWh (zero filled)</th>\n",
              "      <th>Wind Consumption - TWh (zero filled)</th>\n",
              "      <th>Hydro Consumption - TWh (zero filled)</th>\n",
              "      <th>Nuclear Consumption - TWh (zero filled)</th>\n",
              "      <th>Gas Consumption - TWh (zero filled)</th>\n",
              "      <th>Coal Consumption - TWh (zero filled)</th>\n",
              "      <th>Oil Consumption - TWh (zero filled)</th>\n",
              "    </tr>\n",
              "  </thead>\n",
              "  <tbody>\n",
              "    <tr>\n",
              "      <th>0</th>\n",
              "      <td>Africa</td>\n",
              "      <td>NaN</td>\n",
              "      <td>1965</td>\n",
              "      <td>0.00000</td>\n",
              "      <td>0.0000</td>\n",
              "      <td>0.0000</td>\n",
              "      <td>0.0000</td>\n",
              "      <td>41.118813</td>\n",
              "      <td>0.0000</td>\n",
              "      <td>9.543755</td>\n",
              "      <td>323.49612</td>\n",
              "      <td>341.26276</td>\n",
              "    </tr>\n",
              "    <tr>\n",
              "      <th>1</th>\n",
              "      <td>Africa</td>\n",
              "      <td>NaN</td>\n",
              "      <td>1966</td>\n",
              "      <td>0.00000</td>\n",
              "      <td>0.0000</td>\n",
              "      <td>0.0000</td>\n",
              "      <td>0.0000</td>\n",
              "      <td>45.862915</td>\n",
              "      <td>0.0000</td>\n",
              "      <td>10.669916</td>\n",
              "      <td>323.12220</td>\n",
              "      <td>369.48657</td>\n",
              "    </tr>\n",
              "    <tr>\n",
              "      <th>2</th>\n",
              "      <td>Africa</td>\n",
              "      <td>NaN</td>\n",
              "      <td>1967</td>\n",
              "      <td>0.00000</td>\n",
              "      <td>0.0000</td>\n",
              "      <td>0.0000</td>\n",
              "      <td>0.0000</td>\n",
              "      <td>47.875538</td>\n",
              "      <td>0.0000</td>\n",
              "      <td>10.545670</td>\n",
              "      <td>330.29156</td>\n",
              "      <td>368.12524</td>\n",
              "    </tr>\n",
              "    <tr>\n",
              "      <th>3</th>\n",
              "      <td>Africa</td>\n",
              "      <td>NaN</td>\n",
              "      <td>1968</td>\n",
              "      <td>0.00000</td>\n",
              "      <td>0.0000</td>\n",
              "      <td>0.0000</td>\n",
              "      <td>0.0000</td>\n",
              "      <td>56.000473</td>\n",
              "      <td>0.0000</td>\n",
              "      <td>10.688970</td>\n",
              "      <td>343.51290</td>\n",
              "      <td>389.19986</td>\n",
              "    </tr>\n",
              "    <tr>\n",
              "      <th>4</th>\n",
              "      <td>Africa</td>\n",
              "      <td>NaN</td>\n",
              "      <td>1969</td>\n",
              "      <td>0.00000</td>\n",
              "      <td>0.0000</td>\n",
              "      <td>0.0000</td>\n",
              "      <td>0.0000</td>\n",
              "      <td>65.352100</td>\n",
              "      <td>0.0000</td>\n",
              "      <td>12.492000</td>\n",
              "      <td>346.64294</td>\n",
              "      <td>396.92285</td>\n",
              "    </tr>\n",
              "    <tr>\n",
              "      <th>...</th>\n",
              "      <td>...</td>\n",
              "      <td>...</td>\n",
              "      <td>...</td>\n",
              "      <td>...</td>\n",
              "      <td>...</td>\n",
              "      <td>...</td>\n",
              "      <td>...</td>\n",
              "      <td>...</td>\n",
              "      <td>...</td>\n",
              "      <td>...</td>\n",
              "      <td>...</td>\n",
              "      <td>...</td>\n",
              "    </tr>\n",
              "    <tr>\n",
              "      <th>5977</th>\n",
              "      <td>World</td>\n",
              "      <td>OWID_WRL</td>\n",
              "      <td>2017</td>\n",
              "      <td>596.42050</td>\n",
              "      <td>972.5343</td>\n",
              "      <td>1185.5151</td>\n",
              "      <td>3034.9170</td>\n",
              "      <td>10831.405000</td>\n",
              "      <td>6734.8735</td>\n",
              "      <td>36529.223000</td>\n",
              "      <td>43751.67600</td>\n",
              "      <td>52515.54300</td>\n",
              "    </tr>\n",
              "    <tr>\n",
              "      <th>5978</th>\n",
              "      <td>World</td>\n",
              "      <td>OWID_WRL</td>\n",
              "      <td>2018</td>\n",
              "      <td>643.03204</td>\n",
              "      <td>1045.9080</td>\n",
              "      <td>1524.5498</td>\n",
              "      <td>3360.0188</td>\n",
              "      <td>11067.518000</td>\n",
              "      <td>6856.0166</td>\n",
              "      <td>38356.300000</td>\n",
              "      <td>44315.87500</td>\n",
              "      <td>53250.62000</td>\n",
              "    </tr>\n",
              "    <tr>\n",
              "      <th>5979</th>\n",
              "      <td>World</td>\n",
              "      <td>OWID_WRL</td>\n",
              "      <td>2019</td>\n",
              "      <td>674.74536</td>\n",
              "      <td>1120.1494</td>\n",
              "      <td>1855.5922</td>\n",
              "      <td>3744.5151</td>\n",
              "      <td>11153.792000</td>\n",
              "      <td>7073.2896</td>\n",
              "      <td>39062.945000</td>\n",
              "      <td>43699.88700</td>\n",
              "      <td>53368.63000</td>\n",
              "    </tr>\n",
              "    <tr>\n",
              "      <th>5980</th>\n",
              "      <td>World</td>\n",
              "      <td>OWID_WRL</td>\n",
              "      <td>2020</td>\n",
              "      <td>703.91644</td>\n",
              "      <td>1065.5650</td>\n",
              "      <td>2222.4430</td>\n",
              "      <td>4192.6820</td>\n",
              "      <td>11413.828000</td>\n",
              "      <td>6789.3020</td>\n",
              "      <td>38455.727000</td>\n",
              "      <td>41963.96500</td>\n",
              "      <td>48380.71000</td>\n",
              "    </tr>\n",
              "    <tr>\n",
              "      <th>5981</th>\n",
              "      <td>World</td>\n",
              "      <td>OWID_WRL</td>\n",
              "      <td>2021</td>\n",
              "      <td>762.78265</td>\n",
              "      <td>1139.9211</td>\n",
              "      <td>2701.7222</td>\n",
              "      <td>4872.0950</td>\n",
              "      <td>11183.226000</td>\n",
              "      <td>7031.3400</td>\n",
              "      <td>40374.605000</td>\n",
              "      <td>44473.19500</td>\n",
              "      <td>51170.47300</td>\n",
              "    </tr>\n",
              "  </tbody>\n",
              "</table>\n",
              "<p>5982 rows × 12 columns</p>\n",
              "</div>\n",
              "      <button class=\"colab-df-convert\" onclick=\"convertToInteractive('df-d3029b91-e51c-4bd6-8818-a0a2c5c6d4c9')\"\n",
              "              title=\"Convert this dataframe to an interactive table.\"\n",
              "              style=\"display:none;\">\n",
              "        \n",
              "  <svg xmlns=\"http://www.w3.org/2000/svg\" height=\"24px\"viewBox=\"0 0 24 24\"\n",
              "       width=\"24px\">\n",
              "    <path d=\"M0 0h24v24H0V0z\" fill=\"none\"/>\n",
              "    <path d=\"M18.56 5.44l.94 2.06.94-2.06 2.06-.94-2.06-.94-.94-2.06-.94 2.06-2.06.94zm-11 1L8.5 8.5l.94-2.06 2.06-.94-2.06-.94L8.5 2.5l-.94 2.06-2.06.94zm10 10l.94 2.06.94-2.06 2.06-.94-2.06-.94-.94-2.06-.94 2.06-2.06.94z\"/><path d=\"M17.41 7.96l-1.37-1.37c-.4-.4-.92-.59-1.43-.59-.52 0-1.04.2-1.43.59L10.3 9.45l-7.72 7.72c-.78.78-.78 2.05 0 2.83L4 21.41c.39.39.9.59 1.41.59.51 0 1.02-.2 1.41-.59l7.78-7.78 2.81-2.81c.8-.78.8-2.07 0-2.86zM5.41 20L4 18.59l7.72-7.72 1.47 1.35L5.41 20z\"/>\n",
              "  </svg>\n",
              "      </button>\n",
              "      \n",
              "  <style>\n",
              "    .colab-df-container {\n",
              "      display:flex;\n",
              "      flex-wrap:wrap;\n",
              "      gap: 12px;\n",
              "    }\n",
              "\n",
              "    .colab-df-convert {\n",
              "      background-color: #E8F0FE;\n",
              "      border: none;\n",
              "      border-radius: 50%;\n",
              "      cursor: pointer;\n",
              "      display: none;\n",
              "      fill: #1967D2;\n",
              "      height: 32px;\n",
              "      padding: 0 0 0 0;\n",
              "      width: 32px;\n",
              "    }\n",
              "\n",
              "    .colab-df-convert:hover {\n",
              "      background-color: #E2EBFA;\n",
              "      box-shadow: 0px 1px 2px rgba(60, 64, 67, 0.3), 0px 1px 3px 1px rgba(60, 64, 67, 0.15);\n",
              "      fill: #174EA6;\n",
              "    }\n",
              "\n",
              "    [theme=dark] .colab-df-convert {\n",
              "      background-color: #3B4455;\n",
              "      fill: #D2E3FC;\n",
              "    }\n",
              "\n",
              "    [theme=dark] .colab-df-convert:hover {\n",
              "      background-color: #434B5C;\n",
              "      box-shadow: 0px 1px 3px 1px rgba(0, 0, 0, 0.15);\n",
              "      filter: drop-shadow(0px 1px 2px rgba(0, 0, 0, 0.3));\n",
              "      fill: #FFFFFF;\n",
              "    }\n",
              "  </style>\n",
              "\n",
              "      <script>\n",
              "        const buttonEl =\n",
              "          document.querySelector('#df-d3029b91-e51c-4bd6-8818-a0a2c5c6d4c9 button.colab-df-convert');\n",
              "        buttonEl.style.display =\n",
              "          google.colab.kernel.accessAllowed ? 'block' : 'none';\n",
              "\n",
              "        async function convertToInteractive(key) {\n",
              "          const element = document.querySelector('#df-d3029b91-e51c-4bd6-8818-a0a2c5c6d4c9');\n",
              "          const dataTable =\n",
              "            await google.colab.kernel.invokeFunction('convertToInteractive',\n",
              "                                                     [key], {});\n",
              "          if (!dataTable) return;\n",
              "\n",
              "          const docLinkHtml = 'Like what you see? Visit the ' +\n",
              "            '<a target=\"_blank\" href=https://colab.research.google.com/notebooks/data_table.ipynb>data table notebook</a>'\n",
              "            + ' to learn more about interactive tables.';\n",
              "          element.innerHTML = '';\n",
              "          dataTable['output_type'] = 'display_data';\n",
              "          await google.colab.output.renderOutput(dataTable, element);\n",
              "          const docLink = document.createElement('div');\n",
              "          docLink.innerHTML = docLinkHtml;\n",
              "          element.appendChild(docLink);\n",
              "        }\n",
              "      </script>\n",
              "    </div>\n",
              "  </div>\n",
              "  "
            ]
          },
          "metadata": {},
          "execution_count": 6
        }
      ]
    },
    {
      "cell_type": "code",
      "source": [
        "X_year = np.array(df[df['Code'] == 'OWID_WRL']['Year'])"
      ],
      "metadata": {
        "id": "-0qqutQCbZEC"
      },
      "execution_count": 27,
      "outputs": []
    },
    {
      "cell_type": "code",
      "source": [
        "Y_cons = np.array(df[df['Code'] == 'OWID_WRL'].transpose().iloc[3:].sum())"
      ],
      "metadata": {
        "id": "B_mmB01mbrQQ"
      },
      "execution_count": 26,
      "outputs": []
    },
    {
      "cell_type": "code",
      "source": [
        "from sklearn.model_selection import train_test_split\n",
        "\n",
        "X_train, X_test, y_train, y_test = train_test_split(X_year.reshape(-1, 1), Y_cons.reshape(-1, 1) , test_size=0.5)"
      ],
      "metadata": {
        "id": "clD-9iCFW6XQ"
      },
      "execution_count": 31,
      "outputs": []
    },
    {
      "cell_type": "code",
      "source": [
        "from sklearn import datasets, linear_model\n",
        "from sklearn.metrics import mean_squared_error, r2_score\n",
        "\n",
        "# Create linear regression object\n",
        "regr = linear_model.LinearRegression()\n",
        "\n",
        "# Train the model using the training sets\n",
        "regr.fit( X_train, y_train)\n",
        "\n",
        "# Make predictions using the testing set\n",
        "y_pred = regr.predict(X_test)"
      ],
      "metadata": {
        "id": "etclRuZrZjCx"
      },
      "execution_count": 32,
      "outputs": []
    },
    {
      "cell_type": "code",
      "source": [
        "from matplotlib.lines import MarkerStyle\n",
        "# The coefficients\n",
        "print(\"Coefficients: \\n\", regr.coef_)\n",
        "# The mean squared error\n",
        "print(\"Mean squared error: %.2f\" % mean_squared_error(y_test, y_pred))\n",
        "# The coefficient of determination: 1 is perfect prediction\n",
        "print(\"Coefficient of determination: %.2f\" % r2_score(y_test, y_pred))\n"
      ],
      "metadata": {
        "colab": {
          "base_uri": "https://localhost:8080/"
        },
        "id": "33jLhr36Zxch",
        "outputId": "041835e0-e8ef-4f0e-df80-4367bd571266"
      },
      "execution_count": 33,
      "outputs": [
        {
          "output_type": "stream",
          "name": "stdout",
          "text": [
            "Coefficients: \n",
            " [[2094.97070338]]\n",
            "Mean squared error: 13787091.80\n",
            "Coefficient of determination: 0.99\n"
          ]
        }
      ]
    },
    {
      "cell_type": "code",
      "source": [
        "fig,axe = plt.subplots(1,1,figsize = (10, 5))\n",
        "# Plot outputs\n",
        "axe.scatter(X_train, y_train, color=\"maroon\" , s = 15 , label= \"actual data\" )\n",
        "axe.scatter(X_test, y_test, color=\"maroon\" , s = 15 )\n",
        "\n",
        "X_future = np.array([range(1965,2040,1)]).reshape(-1,1)\n",
        "y_future = regr.predict(X_future)\n",
        "sigma = np.sqrt(np.var(y_future[0:len(Y_cons.reshape(-1))].reshape(-1) - Y_cons.reshape(-1)))\n",
        "\n",
        "axe.plot(X_future , y_future , color=\"green\", linewidth=1 , label = \"fitted line\")\n",
        "axe.plot(X_future , y_future - sigma , color=\"green\", linewidth=1,  linestyle='dashed' , label = '1$\\sigma$ line'  )\n",
        "axe.plot(X_future , y_future + sigma , color=\"green\", linewidth=1,  linestyle='dashed' )\n",
        "\n",
        "\n",
        "axe.set_title(\"Energy consumption in the world from 1965 to 2021 \\n and a fitted regression line with its 1$\\sigma$ lines\" , fontname = 'serif')\n",
        "axe.set_xlabel('Years', fontname = 'serif')\n",
        "axe.set_ylabel('E [TWH]', fontname = 'serif')\n",
        "plt.legend()\n",
        "\n",
        "plt.savefig('consume_Energy_LR.png',dpi=2000)"
      ],
      "metadata": {
        "colab": {
          "base_uri": "https://localhost:8080/",
          "height": 383
        },
        "id": "mD8RY71HLHHs",
        "outputId": "a52d93fb-b044-4227-f40d-786b9d9a2335"
      },
      "execution_count": 46,
      "outputs": [
        {
          "output_type": "execute_result",
          "data": {
            "text/plain": [
              "<matplotlib.legend.Legend at 0x7f12e4b20910>"
            ]
          },
          "metadata": {},
          "execution_count": 46
        },
        {
          "output_type": "display_data",
          "data": {
            "text/plain": [
              "<Figure size 720x360 with 1 Axes>"
            ],
            "image/png": "[encoded data removed]"
          },
          "metadata": {
            "needs_background": "light"
          }
        }
      ]
    },
    {
      "cell_type": "code",
      "source": [],
      "metadata": {
        "id": "unpu30ntdV-S"
      },
      "execution_count": null,
      "outputs": []
    }
  ]
}