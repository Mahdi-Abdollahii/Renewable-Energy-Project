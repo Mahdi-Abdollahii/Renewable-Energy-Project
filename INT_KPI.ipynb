{
  "nbformat": 4,
  "nbformat_minor": 0,
  "metadata": {
    "colab": {
      "provenance": [],
      "authorship_tag": "ABX9TyMALvRnQ/WsJ3loF0bu4S2z",
      "include_colab_link": true
    },
    "kernelspec": {
      "name": "python3",
      "display_name": "Python 3"
    },
    "language_info": {
      "name": "python"
    }
  },
  "cells": [
    {
      "cell_type": "markdown",
      "metadata": {
        "id": "view-in-github",
        "colab_type": "text"
      },
      "source": [
        "<a href=\"https://colab.research.google.com/github/Mahdi-Abdollahii/Renewable-Energy-Project/blob/main/INT_KPI.ipynb\" target=\"_parent\"><img src=\"https://colab.research.google.com/assets/colab-badge.svg\" alt=\"Open In Colab\"/></a>"
      ]
    },
    {
      "cell_type": "code",
      "execution_count": 1,
      "metadata": {
        "colab": {
          "base_uri": "https://localhost:8080/"
        },
        "id": "q92RdMUn1vU8",
        "outputId": "1a064745-edf4-4c0e-f421-6574aae779d5"
      },
      "outputs": [
        {
          "output_type": "stream",
          "name": "stdout",
          "text": [
            "Cloning into 'Renewable-Energy-Project'...\n",
            "remote: Enumerating objects: 90, done.\u001b[K\n",
            "remote: Counting objects: 100% (90/90), done.\u001b[K\n",
            "remote: Compressing objects: 100% (84/84), done.\u001b[K\n",
            "remote: Total 90 (delta 33), reused 2 (delta 1), pack-reused 0\u001b[K\n",
            "Unpacking objects: 100% (90/90), done.\n"
          ]
        }
      ],
      "source": [
        "!git clone https://github.com/Mahdi-Abdollahii/Renewable-Energy-Project.git"
      ]
    },
    {
      "cell_type": "code",
      "source": [
        "import matplotlib.pylab as plt\n",
        "import pandas as pd\n",
        "import numpy as np\n",
        "import csv\n",
        "from scipy import stats"
      ],
      "metadata": {
        "id": "DBza0J0f114s"
      },
      "execution_count": 2,
      "outputs": []
    },
    {
      "cell_type": "code",
      "source": [
        "# loading data\n",
        "df_Cons = pd.read_csv(\"/content/Renewable-Energy-Project/Data/Cleaned_INT_Consumption.csv\", index_col= 'countries')\n",
        "df_Prod = pd.read_csv(\"/content/Renewable-Energy-Project/Data/Cleaned_INT_Production.csv\", index_col= 'countries')"
      ],
      "metadata": {
        "id": "Zm58rZ4P2Skp"
      },
      "execution_count": 3,
      "outputs": []
    },
    {
      "cell_type": "code",
      "source": [
        "X = df_Prod['2021'][1:]/df_Cons['2021'][1:]"
      ],
      "metadata": {
        "id": "jR2ks8BH2lGq"
      },
      "execution_count": 4,
      "outputs": []
    },
    {
      "cell_type": "code",
      "source": [
        "fig,axe = plt.subplots(1,1,figsize = (10, 5))\n",
        "# Plot outputs\n",
        "bins = np.arange(0,14,0.5)\n",
        "hist_inf = axe.hist( X , bins = bins , facecolor='maroon')\n",
        "axe.set_title(\"----------\" , fontname = 'serif')\n",
        "plt.xlabel('production / consumption', fontname = 'serif')\n",
        "plt.ylabel('number of countries', fontname = 'serif')\n",
        "axe.grid(True)\n",
        "plt.savefig('KPI_HIST.png',dpi=2000)"
      ],
      "metadata": {
        "colab": {
          "base_uri": "https://localhost:8080/",
          "height": 349
        },
        "id": "HC8hQ7S52_PC",
        "outputId": "a9fdc3a2-69e7-40dc-b1ea-fb3cbae052f0"
      },
      "execution_count": 7,
      "outputs": [
        {
          "output_type": "display_data",
          "data": {
            "text/plain": [
              "<Figure size 720x360 with 1 Axes>"
            ],
            "image/png": "[encoded data removed]"
          },
          "metadata": {
            "needs_background": "light"
          }
        }
      ]
    },
    {
      "cell_type": "code",
      "source": [
        "importer_countries = hist_inf[0][0] + hist_inf[0][1]\n",
        "importer_countries"
      ],
      "metadata": {
        "colab": {
          "base_uri": "https://localhost:8080/"
        },
        "id": "Sxyp9dUd52Wq",
        "outputId": "2abed2ae-02ad-4da4-c9c6-47dbf1dda882"
      },
      "execution_count": null,
      "outputs": [
        {
          "output_type": "execute_result",
          "data": {
            "text/plain": [
              "165.0"
            ]
          },
          "metadata": {},
          "execution_count": 59
        }
      ]
    },
    {
      "cell_type": "code",
      "source": [],
      "metadata": {
        "id": "BmI2IeNt98kT"
      },
      "execution_count": null,
      "outputs": []
    }
  ]
}