{
  "nbformat": 4,
  "nbformat_minor": 0,
  "metadata": {
    "colab": {
      "provenance": [],
      "authorship_tag": "ABX9TyP+ReYBLAAzi0o4y73Hbf8x",
      "include_colab_link": true
    },
    "kernelspec": {
      "name": "python3",
      "display_name": "Python 3"
    },
    "language_info": {
      "name": "python"
    }
  },
  "cells": [
    {
      "cell_type": "markdown",
      "metadata": {
        "id": "view-in-github",
        "colab_type": "text"
      },
      "source": [
        "<a href=\"https://colab.research.google.com/github/Mahdi-Abdollahii/Renewable-Energy-Project/blob/main/SSP_Data_Cleaning.ipynb\" target=\"_parent\"><img src=\"https://colab.research.google.com/assets/colab-badge.svg\" alt=\"Open In Colab\"/></a>"
      ]
    },
    {
      "cell_type": "markdown",
      "source": [
        "https://www.eia.gov/international/data/world"
      ],
      "metadata": {
        "id": "H5LDj1FEwKDF"
      }
    },
    {
      "cell_type": "code",
      "source": [
        "!git clone https://github.com/Mahdi-Abdollahii/Renewable-Energy-Project.git"
      ],
      "metadata": {
        "id": "RgzOVTrE9j20",
        "colab": {
          "base_uri": "https://localhost:8080/"
        },
        "outputId": "c5e3e6b9-a091-4a01-eb2a-b9aa3f9d346b"
      },
      "execution_count": 17,
      "outputs": [
        {
          "output_type": "stream",
          "name": "stdout",
          "text": [
            "Cloning into 'Renewable-Energy-Project'...\n",
            "remote: Enumerating objects: 15, done.\u001b[K\n",
            "remote: Counting objects: 100% (15/15), done.\u001b[K\n",
            "remote: Compressing objects: 100% (10/10), done.\u001b[K\n",
            "remote: Total 15 (delta 0), reused 0 (delta 0), pack-reused 0\u001b[K\n",
            "Unpacking objects: 100% (15/15), done.\n"
          ]
        }
      ]
    },
    {
      "cell_type": "code",
      "execution_count": null,
      "metadata": {
        "id": "1rKyx8sB3E6X"
      },
      "outputs": [],
      "source": [
        "import matplotlib.pylab as plt\n",
        "import pandas as pd\n",
        "import numpy as np\n",
        "import csv\n",
        "from scipy import stats"
      ]
    },
    {
      "cell_type": "code",
      "source": [
        "# loading data\n",
        "df_Cons = pd.read_csv(\"/content/Renewable-Energy-Project/Data/INT-Consumption.csv\", index_col= 'countries')\n",
        "df_Prod = pd.read_csv(\"/content/Renewable-Energy-Project/Data/INT-Production.csv\", index_col= 'countries')"
      ],
      "metadata": {
        "id": "dApZ25rK3L4p"
      },
      "execution_count": 24,
      "outputs": []
    },
    {
      "cell_type": "code",
      "source": [
        "#removing some countries which have no data during this period of time (2000-2021)\n",
        "removed_countris_Cons = df_Cons[df_Cons['2000'] == '--'].index.tolist() + df_Cons[df_Cons['2019'] == '--'].index.tolist()\n",
        "removed_countris_Cons = list(dict.fromkeys(removed_countris_Cons))\n",
        "\n",
        "for i in removed_countris_Cons:\n",
        "  df_Cons.drop(labels=i,inplace=True, axis=0)\n",
        "\n",
        "df_Cons = df_Cons.astype(float)"
      ],
      "metadata": {
        "id": "ywNlA0kx_6v0"
      },
      "execution_count": 44,
      "outputs": []
    },
    {
      "cell_type": "code",
      "source": [
        "#removing some countries which have no data during this period of time (2000-2021)\n",
        "removed_countris_Prod = df_Prod[df_Prod['2000'] == '--'].index.tolist() + df_Prod[df_Prod['2019'] == '--'].index.tolist()\n",
        "removed_countris_Prod = list(dict.fromkeys(removed_countris_Prod))\n",
        "\n",
        "for i in removed_countris_Prod:\n",
        "  df_Prod.drop(labels=i,inplace=True, axis=0)\n",
        "\n",
        "df_Prod = df_Prod.astype(float)"
      ],
      "metadata": {
        "id": "b5i5n35pDFe7"
      },
      "execution_count": 46,
      "outputs": []
    },
    {
      "cell_type": "code",
      "source": [
        "df_Cons.head(5)"
      ],
      "metadata": {
        "colab": {
          "base_uri": "https://localhost:8080/",
          "height": 348
        },
        "id": "bMvK-5VGDYII",
        "outputId": "74940613-35ef-453e-e029-29a39a98d587"
      },
      "execution_count": 49,
      "outputs": [
        {
          "output_type": "execute_result",
          "data": {
            "text/plain": [
              "                        2000          2001          2002          2003  \\\n",
              "countries                                                                \n",
              "World           4.242821e+08  4.273394e+08  4.365630e+08  4.516923e+08   \n",
              "Afghanistan     2.128898e+04  1.679068e+04  1.594138e+04  1.874758e+04   \n",
              "Albania         1.034349e+05  9.803932e+04  1.061908e+05  1.197725e+05   \n",
              "Algeria         1.344290e+06  1.345807e+06  1.379438e+06  1.395967e+06   \n",
              "American Samoa  8.268582e+03  8.268582e+03  8.405959e+03  8.405959e+03   \n",
              "\n",
              "                        2004          2005          2006          2007  \\\n",
              "countries                                                                \n",
              "World           4.751160e+08  4.905293e+08  5.061128e+08  5.202154e+08   \n",
              "Afghanistan     1.731734e+04  2.215191e+04  2.788331e+04  3.303727e+04   \n",
              "Albania         1.277515e+05  1.260491e+05  1.186827e+05  1.021559e+05   \n",
              "Algeria         1.366730e+06  1.572525e+06  1.645559e+06  1.635069e+06   \n",
              "American Samoa  8.405959e+03  8.929446e+03  9.080819e+03  9.080819e+03   \n",
              "\n",
              "                        2008          2009  ...          2012          2013  \\\n",
              "countries                                   ...                               \n",
              "World           5.274447e+08  5.219639e+08  ...  5.822123e+08  5.926091e+08   \n",
              "Afghanistan     5.782802e+04  9.612718e+04  ...  1.452287e+05  1.204513e+05   \n",
              "Albania         1.115667e+05  1.215826e+05  ...  1.109158e+05  1.391947e+05   \n",
              "Algeria         1.769772e+06  1.882352e+06  ...  2.213722e+06  2.149766e+06   \n",
              "American Samoa  9.105698e+03  9.080819e+03  ...  5.205150e+03  5.202049e+03   \n",
              "\n",
              "                        2014          2015          2016          2017  \\\n",
              "countries                                                                \n",
              "World           5.978325e+08  5.973536e+08  6.052358e+08  6.168634e+08   \n",
              "Afghanistan     1.022995e+05  1.178770e+05  1.075817e+05  1.064142e+05   \n",
              "Albania         1.226148e+05  1.227001e+05  1.433776e+05  1.327054e+05   \n",
              "Algeria         2.426511e+06  2.481647e+06  2.464592e+06  2.496248e+06   \n",
              "American Samoa  5.201983e+03  5.201578e+03  5.225334e+03  5.230517e+03   \n",
              "\n",
              "                        2018          2019          2020          2021  \n",
              "countries                                                               \n",
              "World           6.314726e+08  6.340298e+08  6.065223e+08  6.373276e+08  \n",
              "Afghanistan     1.220681e+05  1.091314e+05  9.861522e+04  9.768647e+04  \n",
              "Albania         1.513166e+05  1.198639e+05  1.151580e+05  1.449095e+05  \n",
              "Algeria         2.660977e+06  2.769388e+06  2.617394e+06  2.723229e+06  \n",
              "American Samoa  5.229942e+03  5.228893e+03  4.982483e+03  5.746267e+03  \n",
              "\n",
              "[5 rows x 22 columns]"
            ],
            "text/html": [
              "\n",
              "  <div id=\"df-19dcb61f-db98-4460-bb5b-3f33a29fbc4a\">\n",
              "    <div class=\"colab-df-container\">\n",
              "      <div>\n",
              "<style scoped>\n",
              "    .dataframe tbody tr th:only-of-type {\n",
              "        vertical-align: middle;\n",
              "    }\n",
              "\n",
              "    .dataframe tbody tr th {\n",
              "        vertical-align: top;\n",
              "    }\n",
              "\n",
              "    .dataframe thead th {\n",
              "        text-align: right;\n",
              "    }\n",
              "</style>\n",
              "<table border=\"1\" class=\"dataframe\">\n",
              "  <thead>\n",
              "    <tr style=\"text-align: right;\">\n",
              "      <th></th>\n",
              "      <th>2000</th>\n",
              "      <th>2001</th>\n",
              "      <th>2002</th>\n",
              "      <th>2003</th>\n",
              "      <th>2004</th>\n",
              "      <th>2005</th>\n",
              "      <th>2006</th>\n",
              "      <th>2007</th>\n",
              "      <th>2008</th>\n",
              "      <th>2009</th>\n",
              "      <th>...</th>\n",
              "      <th>2012</th>\n",
              "      <th>2013</th>\n",
              "      <th>2014</th>\n",
              "      <th>2015</th>\n",
              "      <th>2016</th>\n",
              "      <th>2017</th>\n",
              "      <th>2018</th>\n",
              "      <th>2019</th>\n",
              "      <th>2020</th>\n",
              "      <th>2021</th>\n",
              "    </tr>\n",
              "    <tr>\n",
              "      <th>countries</th>\n",
              "      <th></th>\n",
              "      <th></th>\n",
              "      <th></th>\n",
              "      <th></th>\n",
              "      <th></th>\n",
              "      <th></th>\n",
              "      <th></th>\n",
              "      <th></th>\n",
              "      <th></th>\n",
              "      <th></th>\n",
              "      <th></th>\n",
              "      <th></th>\n",
              "      <th></th>\n",
              "      <th></th>\n",
              "      <th></th>\n",
              "      <th></th>\n",
              "      <th></th>\n",
              "      <th></th>\n",
              "      <th></th>\n",
              "      <th></th>\n",
              "      <th></th>\n",
              "    </tr>\n",
              "  </thead>\n",
              "  <tbody>\n",
              "    <tr>\n",
              "      <th>World</th>\n",
              "      <td>4.242821e+08</td>\n",
              "      <td>4.273394e+08</td>\n",
              "      <td>4.365630e+08</td>\n",
              "      <td>4.516923e+08</td>\n",
              "      <td>4.751160e+08</td>\n",
              "      <td>4.905293e+08</td>\n",
              "      <td>5.061128e+08</td>\n",
              "      <td>5.202154e+08</td>\n",
              "      <td>5.274447e+08</td>\n",
              "      <td>5.219639e+08</td>\n",
              "      <td>...</td>\n",
              "      <td>5.822123e+08</td>\n",
              "      <td>5.926091e+08</td>\n",
              "      <td>5.978325e+08</td>\n",
              "      <td>5.973536e+08</td>\n",
              "      <td>6.052358e+08</td>\n",
              "      <td>6.168634e+08</td>\n",
              "      <td>6.314726e+08</td>\n",
              "      <td>6.340298e+08</td>\n",
              "      <td>6.065223e+08</td>\n",
              "      <td>6.373276e+08</td>\n",
              "    </tr>\n",
              "    <tr>\n",
              "      <th>Afghanistan</th>\n",
              "      <td>2.128898e+04</td>\n",
              "      <td>1.679068e+04</td>\n",
              "      <td>1.594138e+04</td>\n",
              "      <td>1.874758e+04</td>\n",
              "      <td>1.731734e+04</td>\n",
              "      <td>2.215191e+04</td>\n",
              "      <td>2.788331e+04</td>\n",
              "      <td>3.303727e+04</td>\n",
              "      <td>5.782802e+04</td>\n",
              "      <td>9.612718e+04</td>\n",
              "      <td>...</td>\n",
              "      <td>1.452287e+05</td>\n",
              "      <td>1.204513e+05</td>\n",
              "      <td>1.022995e+05</td>\n",
              "      <td>1.178770e+05</td>\n",
              "      <td>1.075817e+05</td>\n",
              "      <td>1.064142e+05</td>\n",
              "      <td>1.220681e+05</td>\n",
              "      <td>1.091314e+05</td>\n",
              "      <td>9.861522e+04</td>\n",
              "      <td>9.768647e+04</td>\n",
              "    </tr>\n",
              "    <tr>\n",
              "      <th>Albania</th>\n",
              "      <td>1.034349e+05</td>\n",
              "      <td>9.803932e+04</td>\n",
              "      <td>1.061908e+05</td>\n",
              "      <td>1.197725e+05</td>\n",
              "      <td>1.277515e+05</td>\n",
              "      <td>1.260491e+05</td>\n",
              "      <td>1.186827e+05</td>\n",
              "      <td>1.021559e+05</td>\n",
              "      <td>1.115667e+05</td>\n",
              "      <td>1.215826e+05</td>\n",
              "      <td>...</td>\n",
              "      <td>1.109158e+05</td>\n",
              "      <td>1.391947e+05</td>\n",
              "      <td>1.226148e+05</td>\n",
              "      <td>1.227001e+05</td>\n",
              "      <td>1.433776e+05</td>\n",
              "      <td>1.327054e+05</td>\n",
              "      <td>1.513166e+05</td>\n",
              "      <td>1.198639e+05</td>\n",
              "      <td>1.151580e+05</td>\n",
              "      <td>1.449095e+05</td>\n",
              "    </tr>\n",
              "    <tr>\n",
              "      <th>Algeria</th>\n",
              "      <td>1.344290e+06</td>\n",
              "      <td>1.345807e+06</td>\n",
              "      <td>1.379438e+06</td>\n",
              "      <td>1.395967e+06</td>\n",
              "      <td>1.366730e+06</td>\n",
              "      <td>1.572525e+06</td>\n",
              "      <td>1.645559e+06</td>\n",
              "      <td>1.635069e+06</td>\n",
              "      <td>1.769772e+06</td>\n",
              "      <td>1.882352e+06</td>\n",
              "      <td>...</td>\n",
              "      <td>2.213722e+06</td>\n",
              "      <td>2.149766e+06</td>\n",
              "      <td>2.426511e+06</td>\n",
              "      <td>2.481647e+06</td>\n",
              "      <td>2.464592e+06</td>\n",
              "      <td>2.496248e+06</td>\n",
              "      <td>2.660977e+06</td>\n",
              "      <td>2.769388e+06</td>\n",
              "      <td>2.617394e+06</td>\n",
              "      <td>2.723229e+06</td>\n",
              "    </tr>\n",
              "    <tr>\n",
              "      <th>American Samoa</th>\n",
              "      <td>8.268582e+03</td>\n",
              "      <td>8.268582e+03</td>\n",
              "      <td>8.405959e+03</td>\n",
              "      <td>8.405959e+03</td>\n",
              "      <td>8.405959e+03</td>\n",
              "      <td>8.929446e+03</td>\n",
              "      <td>9.080819e+03</td>\n",
              "      <td>9.080819e+03</td>\n",
              "      <td>9.105698e+03</td>\n",
              "      <td>9.080819e+03</td>\n",
              "      <td>...</td>\n",
              "      <td>5.205150e+03</td>\n",
              "      <td>5.202049e+03</td>\n",
              "      <td>5.201983e+03</td>\n",
              "      <td>5.201578e+03</td>\n",
              "      <td>5.225334e+03</td>\n",
              "      <td>5.230517e+03</td>\n",
              "      <td>5.229942e+03</td>\n",
              "      <td>5.228893e+03</td>\n",
              "      <td>4.982483e+03</td>\n",
              "      <td>5.746267e+03</td>\n",
              "    </tr>\n",
              "  </tbody>\n",
              "</table>\n",
              "<p>5 rows × 22 columns</p>\n",
              "</div>\n",
              "      <button class=\"colab-df-convert\" onclick=\"convertToInteractive('df-19dcb61f-db98-4460-bb5b-3f33a29fbc4a')\"\n",
              "              title=\"Convert this dataframe to an interactive table.\"\n",
              "              style=\"display:none;\">\n",
              "        \n",
              "  <svg xmlns=\"http://www.w3.org/2000/svg\" height=\"24px\"viewBox=\"0 0 24 24\"\n",
              "       width=\"24px\">\n",
              "    <path d=\"M0 0h24v24H0V0z\" fill=\"none\"/>\n",
              "    <path d=\"M18.56 5.44l.94 2.06.94-2.06 2.06-.94-2.06-.94-.94-2.06-.94 2.06-2.06.94zm-11 1L8.5 8.5l.94-2.06 2.06-.94-2.06-.94L8.5 2.5l-.94 2.06-2.06.94zm10 10l.94 2.06.94-2.06 2.06-.94-2.06-.94-.94-2.06-.94 2.06-2.06.94z\"/><path d=\"M17.41 7.96l-1.37-1.37c-.4-.4-.92-.59-1.43-.59-.52 0-1.04.2-1.43.59L10.3 9.45l-7.72 7.72c-.78.78-.78 2.05 0 2.83L4 21.41c.39.39.9.59 1.41.59.51 0 1.02-.2 1.41-.59l7.78-7.78 2.81-2.81c.8-.78.8-2.07 0-2.86zM5.41 20L4 18.59l7.72-7.72 1.47 1.35L5.41 20z\"/>\n",
              "  </svg>\n",
              "      </button>\n",
              "      \n",
              "  <style>\n",
              "    .colab-df-container {\n",
              "      display:flex;\n",
              "      flex-wrap:wrap;\n",
              "      gap: 12px;\n",
              "    }\n",
              "\n",
              "    .colab-df-convert {\n",
              "      background-color: #E8F0FE;\n",
              "      border: none;\n",
              "      border-radius: 50%;\n",
              "      cursor: pointer;\n",
              "      display: none;\n",
              "      fill: #1967D2;\n",
              "      height: 32px;\n",
              "      padding: 0 0 0 0;\n",
              "      width: 32px;\n",
              "    }\n",
              "\n",
              "    .colab-df-convert:hover {\n",
              "      background-color: #E2EBFA;\n",
              "      box-shadow: 0px 1px 2px rgba(60, 64, 67, 0.3), 0px 1px 3px 1px rgba(60, 64, 67, 0.15);\n",
              "      fill: #174EA6;\n",
              "    }\n",
              "\n",
              "    [theme=dark] .colab-df-convert {\n",
              "      background-color: #3B4455;\n",
              "      fill: #D2E3FC;\n",
              "    }\n",
              "\n",
              "    [theme=dark] .colab-df-convert:hover {\n",
              "      background-color: #434B5C;\n",
              "      box-shadow: 0px 1px 3px 1px rgba(0, 0, 0, 0.15);\n",
              "      filter: drop-shadow(0px 1px 2px rgba(0, 0, 0, 0.3));\n",
              "      fill: #FFFFFF;\n",
              "    }\n",
              "  </style>\n",
              "\n",
              "      <script>\n",
              "        const buttonEl =\n",
              "          document.querySelector('#df-19dcb61f-db98-4460-bb5b-3f33a29fbc4a button.colab-df-convert');\n",
              "        buttonEl.style.display =\n",
              "          google.colab.kernel.accessAllowed ? 'block' : 'none';\n",
              "\n",
              "        async function convertToInteractive(key) {\n",
              "          const element = document.querySelector('#df-19dcb61f-db98-4460-bb5b-3f33a29fbc4a');\n",
              "          const dataTable =\n",
              "            await google.colab.kernel.invokeFunction('convertToInteractive',\n",
              "                                                     [key], {});\n",
              "          if (!dataTable) return;\n",
              "\n",
              "          const docLinkHtml = 'Like what you see? Visit the ' +\n",
              "            '<a target=\"_blank\" href=https://colab.research.google.com/notebooks/data_table.ipynb>data table notebook</a>'\n",
              "            + ' to learn more about interactive tables.';\n",
              "          element.innerHTML = '';\n",
              "          dataTable['output_type'] = 'display_data';\n",
              "          await google.colab.output.renderOutput(dataTable, element);\n",
              "          const docLink = document.createElement('div');\n",
              "          docLink.innerHTML = docLinkHtml;\n",
              "          element.appendChild(docLink);\n",
              "        }\n",
              "      </script>\n",
              "    </div>\n",
              "  </div>\n",
              "  "
            ]
          },
          "metadata": {},
          "execution_count": 49
        }
      ]
    },
    {
      "cell_type": "code",
      "source": [
        "Y_cons = np.array(df_Cons[df_Cons.index == 'World'])\n",
        "Y_Prod = np.array(df_Prod[df_Prod.index == 'World'])\n",
        "X_year = np.array(df_Prod.columns )"
      ],
      "metadata": {
        "id": "lX31Ki2K91Di"
      },
      "execution_count": 69,
      "outputs": []
    },
    {
      "cell_type": "code",
      "source": [
        "X_year"
      ],
      "metadata": {
        "colab": {
          "base_uri": "https://localhost:8080/"
        },
        "id": "gWFFma6RG5_O",
        "outputId": "6ff150ea-47ef-47ad-cd99-f0a311e6c6a1"
      },
      "execution_count": 70,
      "outputs": [
        {
          "output_type": "execute_result",
          "data": {
            "text/plain": [
              "array(['2000', '2001', '2002', '2003', '2004', '2005', '2006', '2007',\n",
              "       '2008', '2009', '2010', '2011', '2012', '2013', '2014', '2015',\n",
              "       '2016', '2017', '2018', '2019', '2020', '2021'], dtype=object)"
            ]
          },
          "metadata": {},
          "execution_count": 70
        }
      ]
    },
    {
      "cell_type": "code",
      "source": [
        "plt.plot(X_year,Y_cons.reshape(-1))\n",
        "plt.plot(X_year,Y_Prod.reshape(-1))"
      ],
      "metadata": {
        "colab": {
          "base_uri": "https://localhost:8080/",
          "height": 294
        },
        "id": "29W5Mb_c3YTr",
        "outputId": "a4d5175e-f26c-4d43-f0af-2982ab079e4b"
      },
      "execution_count": 74,
      "outputs": [
        {
          "output_type": "execute_result",
          "data": {
            "text/plain": [
              "[<matplotlib.lines.Line2D at 0x7ff65ad71220>]"
            ]
          },
          "metadata": {},
          "execution_count": 74
        },
        {
          "output_type": "display_data",
          "data": {
            "text/plain": [
              "<Figure size 432x288 with 1 Axes>"
            ],
            "image/png": "[encoded data removed]"
          },
          "metadata": {
            "needs_background": "light"
          }
        }
      ]
    },
    {
      "cell_type": "code",
      "source": [
        "df_Cons_asc = df_Cons.sort_values(by=['2021'],ascending=False)\n",
        "df_Cons_asc_index = df_Cons_asc.index.tolist()"
      ],
      "metadata": {
        "id": "FzA32jNDEYZi"
      },
      "execution_count": 81,
      "outputs": []
    },
    {
      "cell_type": "code",
      "source": [
        "fig = plt.figure(figsize = (10, 5))\n",
        "plt.bar(df_Cons_asc_index[1:6], df_Cons_asc['2021'][1:6], color ='maroon', width = 0.4)\n",
        "plt.savefig('energy_consume.png')\n",
        " #plt.savefig('energy_consume.jpg')"
      ],
      "metadata": {
        "colab": {
          "base_uri": "https://localhost:8080/",
          "height": 331
        },
        "id": "ah5xfD1HPVbC",
        "outputId": "5ac86aac-e6ef-41f8-b98e-36ae35344871"
      },
      "execution_count": 82,
      "outputs": [
        {
          "output_type": "display_data",
          "data": {
            "text/plain": [
              "<Figure size 720x360 with 1 Axes>"
            ],
            "image/png": "[encoded data removed]"
          },
          "metadata": {
            "needs_background": "light"
          }
        }
      ]
    },
    {
      "cell_type": "code",
      "source": [
        "df_Prod_asc = df_Prod.sort_values(by=['2021'],ascending=False)\n",
        "df_Prod_asc_index = df_Prod_asc.index.tolist()"
      ],
      "metadata": {
        "id": "E7DiqRr2ITXD"
      },
      "execution_count": 84,
      "outputs": []
    },
    {
      "cell_type": "code",
      "source": [
        "fig = plt.figure(figsize = (10, 5))\n",
        "plt.bar(df_Prod_asc_index[1:6], df_Prod_asc['2021'][1:6], color ='maroon', width = 0.4)\n",
        "plt.savefig('energy_consume.png')\n",
        " #plt.savefig('energy_consume.jpg')"
      ],
      "metadata": {
        "colab": {
          "base_uri": "https://localhost:8080/",
          "height": 331
        },
        "outputId": "7872bb05-0dc7-4ebb-bebd-ec232cc00f53",
        "id": "dzNGjiy1ITXF"
      },
      "execution_count": 85,
      "outputs": [
        {
          "output_type": "display_data",
          "data": {
            "text/plain": [
              "<Figure size 720x360 with 1 Axes>"
            ],
            "image/png": "[encoded data removed]"
          },
          "metadata": {
            "needs_background": "light"
          }
        }
      ]
    },
    {
      "cell_type": "code",
      "source": [],
      "metadata": {
        "id": "YcEgZ_KNIuVs"
      },
      "execution_count": null,
      "outputs": []
    }
  ]
}
