{
  "nbformat": 4,
  "nbformat_minor": 0,
  "metadata": {
    "colab": {
      "provenance": [],
      "authorship_tag": "ABX9TyO3cLiH+ztYIj0Zw6sm54pR",
      "include_colab_link": true
    },
    "kernelspec": {
      "name": "python3",
      "display_name": "Python 3"
    },
    "language_info": {
      "name": "python"
    },
    "accelerator": "GPU",
    "gpuClass": "standard"
  },
  "cells": [
    {
      "cell_type": "markdown",
      "metadata": {
        "id": "view-in-github",
        "colab_type": "text"
      },
      "source": [
        "<a href=\"https://colab.research.google.com/github/Mahdi-Abdollahii/Renewable-Energy-Project/blob/main/Linear_Regression_Consumption.ipynb\" target=\"_parent\"><img src=\"https://colab.research.google.com/assets/colab-badge.svg\" alt=\"Open In Colab\"/></a>"
      ]
    },
    {
      "cell_type": "code",
      "source": [
        "!git clone https://github.com/Mahdi-Abdollahii/Renewable-Energy-Project.git"
      ],
      "metadata": {
        "colab": {
          "base_uri": "https://localhost:8080/"
        },
        "id": "udMNarMNKg8o",
        "outputId": "9cf39081-36e1-43f8-dffd-6b3fd1b0b78b"
      },
      "execution_count": 1,
      "outputs": [
        {
          "output_type": "stream",
          "name": "stdout",
          "text": [
            "Cloning into 'Renewable-Energy-Project'...\n",
            "remote: Enumerating objects: 112, done.\u001b[K\n",
            "remote: Counting objects: 100% (28/28), done.\u001b[K\n",
            "remote: Compressing objects: 100% (22/22), done.\u001b[K\n",
            "remote: Total 112 (delta 15), reused 6 (delta 6), pack-reused 84\u001b[K\n",
            "Receiving objects: 100% (112/112), 869.40 KiB | 31.05 MiB/s, done.\n",
            "Resolving deltas: 100% (40/40), done.\n"
          ]
        }
      ]
    },
    {
      "cell_type": "code",
      "execution_count": 2,
      "metadata": {
        "id": "zU_Xp1Y1F4_9"
      },
      "outputs": [],
      "source": [
        "import matplotlib.pylab as plt\n",
        "import pandas as pd\n",
        "import numpy as np\n",
        "import csv\n",
        "from scipy import stats"
      ]
    },
    {
      "cell_type": "code",
      "source": [
        "df = pd.read_csv(\"/content/Renewable-Energy-Project/Data/World_1980_2021.csv\", index_col= 'Unnamed: 0')\n",
        "df = df.astype(float)"
      ],
      "metadata": {
        "id": "jKxtsbPXHuog"
      },
      "execution_count": 3,
      "outputs": []
    },
    {
      "cell_type": "code",
      "source": [
        "df"
      ],
      "metadata": {
        "id": "EMI4DZ9q4YTF",
        "outputId": "d948c337-b9f7-4373-a757-f2f8dadb74bc",
        "colab": {
          "base_uri": "https://localhost:8080/",
          "height": 240
        }
      },
      "execution_count": 4,
      "outputs": [
        {
          "output_type": "execute_result",
          "data": {
            "text/plain": [
              "                                 1980         1981         1982         1983  \\\n",
              "Production (terajoules)   312657821.1  307331192.6  306101458.5  309181710.0   \n",
              "Consumption (terajoules)  309067972.2  305397473.1  305700939.5  309915449.3   \n",
              "\n",
              "                                 1984         1985         1986         1987  \\\n",
              "Production (terajoules)   325956217.4  333917295.7  344761698.2  352809382.5   \n",
              "Consumption (terajoules)  324211210.0  332849280.9  339971237.5  351085633.0   \n",
              "\n",
              "                                 1988         1989  ...         2012  \\\n",
              "Production (terajoules)   366553888.8  373528265.8  ...  575634903.1   \n",
              "Consumption (terajoules)  364597401.6  370738739.5  ...  582212267.7   \n",
              "\n",
              "                                 2013         2014         2015         2016  \\\n",
              "Production (terajoules)   584231928.7  594215776.4  599601268.3  595571140.1   \n",
              "Consumption (terajoules)  592609131.6  597832462.6  597353592.1  605235813.4   \n",
              "\n",
              "                                 2017         2018         2019         2020  \\\n",
              "Production (terajoules)   610955925.6  633737110.0  644767403.2  618353912.6   \n",
              "Consumption (terajoules)  616863351.2  631472593.3  634029840.1  606522268.4   \n",
              "\n",
              "                                 2021  \n",
              "Production (terajoules)   640225404.7  \n",
              "Consumption (terajoules)  637327580.5  \n",
              "\n",
              "[2 rows x 42 columns]"
            ],
            "text/html": [
              "\n",
              "  <div id=\"df-f4234356-97f5-49a9-b4d5-d357723ea571\">\n",
              "    <div class=\"colab-df-container\">\n",
              "      <div>\n",
              "<style scoped>\n",
              "    .dataframe tbody tr th:only-of-type {\n",
              "        vertical-align: middle;\n",
              "    }\n",
              "\n",
              "    .dataframe tbody tr th {\n",
              "        vertical-align: top;\n",
              "    }\n",
              "\n",
              "    .dataframe thead th {\n",
              "        text-align: right;\n",
              "    }\n",
              "</style>\n",
              "<table border=\"1\" class=\"dataframe\">\n",
              "  <thead>\n",
              "    <tr style=\"text-align: right;\">\n",
              "      <th></th>\n",
              "      <th>1980</th>\n",
              "      <th>1981</th>\n",
              "      <th>1982</th>\n",
              "      <th>1983</th>\n",
              "      <th>1984</th>\n",
              "      <th>1985</th>\n",
              "      <th>1986</th>\n",
              "      <th>1987</th>\n",
              "      <th>1988</th>\n",
              "      <th>1989</th>\n",
              "      <th>...</th>\n",
              "      <th>2012</th>\n",
              "      <th>2013</th>\n",
              "      <th>2014</th>\n",
              "      <th>2015</th>\n",
              "      <th>2016</th>\n",
              "      <th>2017</th>\n",
              "      <th>2018</th>\n",
              "      <th>2019</th>\n",
              "      <th>2020</th>\n",
              "      <th>2021</th>\n",
              "    </tr>\n",
              "  </thead>\n",
              "  <tbody>\n",
              "    <tr>\n",
              "      <th>Production (terajoules)</th>\n",
              "      <td>312657821.1</td>\n",
              "      <td>307331192.6</td>\n",
              "      <td>306101458.5</td>\n",
              "      <td>309181710.0</td>\n",
              "      <td>325956217.4</td>\n",
              "      <td>333917295.7</td>\n",
              "      <td>344761698.2</td>\n",
              "      <td>352809382.5</td>\n",
              "      <td>366553888.8</td>\n",
              "      <td>373528265.8</td>\n",
              "      <td>...</td>\n",
              "      <td>575634903.1</td>\n",
              "      <td>584231928.7</td>\n",
              "      <td>594215776.4</td>\n",
              "      <td>599601268.3</td>\n",
              "      <td>595571140.1</td>\n",
              "      <td>610955925.6</td>\n",
              "      <td>633737110.0</td>\n",
              "      <td>644767403.2</td>\n",
              "      <td>618353912.6</td>\n",
              "      <td>640225404.7</td>\n",
              "    </tr>\n",
              "    <tr>\n",
              "      <th>Consumption (terajoules)</th>\n",
              "      <td>309067972.2</td>\n",
              "      <td>305397473.1</td>\n",
              "      <td>305700939.5</td>\n",
              "      <td>309915449.3</td>\n",
              "      <td>324211210.0</td>\n",
              "      <td>332849280.9</td>\n",
              "      <td>339971237.5</td>\n",
              "      <td>351085633.0</td>\n",
              "      <td>364597401.6</td>\n",
              "      <td>370738739.5</td>\n",
              "      <td>...</td>\n",
              "      <td>582212267.7</td>\n",
              "      <td>592609131.6</td>\n",
              "      <td>597832462.6</td>\n",
              "      <td>597353592.1</td>\n",
              "      <td>605235813.4</td>\n",
              "      <td>616863351.2</td>\n",
              "      <td>631472593.3</td>\n",
              "      <td>634029840.1</td>\n",
              "      <td>606522268.4</td>\n",
              "      <td>637327580.5</td>\n",
              "    </tr>\n",
              "  </tbody>\n",
              "</table>\n",
              "<p>2 rows × 42 columns</p>\n",
              "</div>\n",
              "      <button class=\"colab-df-convert\" onclick=\"convertToInteractive('df-f4234356-97f5-49a9-b4d5-d357723ea571')\"\n",
              "              title=\"Convert this dataframe to an interactive table.\"\n",
              "              style=\"display:none;\">\n",
              "        \n",
              "  <svg xmlns=\"http://www.w3.org/2000/svg\" height=\"24px\"viewBox=\"0 0 24 24\"\n",
              "       width=\"24px\">\n",
              "    <path d=\"M0 0h24v24H0V0z\" fill=\"none\"/>\n",
              "    <path d=\"M18.56 5.44l.94 2.06.94-2.06 2.06-.94-2.06-.94-.94-2.06-.94 2.06-2.06.94zm-11 1L8.5 8.5l.94-2.06 2.06-.94-2.06-.94L8.5 2.5l-.94 2.06-2.06.94zm10 10l.94 2.06.94-2.06 2.06-.94-2.06-.94-.94-2.06-.94 2.06-2.06.94z\"/><path d=\"M17.41 7.96l-1.37-1.37c-.4-.4-.92-.59-1.43-.59-.52 0-1.04.2-1.43.59L10.3 9.45l-7.72 7.72c-.78.78-.78 2.05 0 2.83L4 21.41c.39.39.9.59 1.41.59.51 0 1.02-.2 1.41-.59l7.78-7.78 2.81-2.81c.8-.78.8-2.07 0-2.86zM5.41 20L4 18.59l7.72-7.72 1.47 1.35L5.41 20z\"/>\n",
              "  </svg>\n",
              "      </button>\n",
              "      \n",
              "  <style>\n",
              "    .colab-df-container {\n",
              "      display:flex;\n",
              "      flex-wrap:wrap;\n",
              "      gap: 12px;\n",
              "    }\n",
              "\n",
              "    .colab-df-convert {\n",
              "      background-color: #E8F0FE;\n",
              "      border: none;\n",
              "      border-radius: 50%;\n",
              "      cursor: pointer;\n",
              "      display: none;\n",
              "      fill: #1967D2;\n",
              "      height: 32px;\n",
              "      padding: 0 0 0 0;\n",
              "      width: 32px;\n",
              "    }\n",
              "\n",
              "    .colab-df-convert:hover {\n",
              "      background-color: #E2EBFA;\n",
              "      box-shadow: 0px 1px 2px rgba(60, 64, 67, 0.3), 0px 1px 3px 1px rgba(60, 64, 67, 0.15);\n",
              "      fill: #174EA6;\n",
              "    }\n",
              "\n",
              "    [theme=dark] .colab-df-convert {\n",
              "      background-color: #3B4455;\n",
              "      fill: #D2E3FC;\n",
              "    }\n",
              "\n",
              "    [theme=dark] .colab-df-convert:hover {\n",
              "      background-color: #434B5C;\n",
              "      box-shadow: 0px 1px 3px 1px rgba(0, 0, 0, 0.15);\n",
              "      filter: drop-shadow(0px 1px 2px rgba(0, 0, 0, 0.3));\n",
              "      fill: #FFFFFF;\n",
              "    }\n",
              "  </style>\n",
              "\n",
              "      <script>\n",
              "        const buttonEl =\n",
              "          document.querySelector('#df-f4234356-97f5-49a9-b4d5-d357723ea571 button.colab-df-convert');\n",
              "        buttonEl.style.display =\n",
              "          google.colab.kernel.accessAllowed ? 'block' : 'none';\n",
              "\n",
              "        async function convertToInteractive(key) {\n",
              "          const element = document.querySelector('#df-f4234356-97f5-49a9-b4d5-d357723ea571');\n",
              "          const dataTable =\n",
              "            await google.colab.kernel.invokeFunction('convertToInteractive',\n",
              "                                                     [key], {});\n",
              "          if (!dataTable) return;\n",
              "\n",
              "          const docLinkHtml = 'Like what you see? Visit the ' +\n",
              "            '<a target=\"_blank\" href=https://colab.research.google.com/notebooks/data_table.ipynb>data table notebook</a>'\n",
              "            + ' to learn more about interactive tables.';\n",
              "          element.innerHTML = '';\n",
              "          dataTable['output_type'] = 'display_data';\n",
              "          await google.colab.output.renderOutput(dataTable, element);\n",
              "          const docLink = document.createElement('div');\n",
              "          docLink.innerHTML = docLinkHtml;\n",
              "          element.appendChild(docLink);\n",
              "        }\n",
              "      </script>\n",
              "    </div>\n",
              "  </div>\n",
              "  "
            ]
          },
          "metadata": {},
          "execution_count": 4
        }
      ]
    },
    {
      "cell_type": "code",
      "source": [
        "Y_cons = np.array(df[df.index == 'Consumption (terajoules)']) * 10**12 * (2.7777 * (10**-16))\n",
        "Y_Prod = np.array(df[df.index == 'Production (terajoules)']) * 10**12 * (2.7777 * (10**-16))\n",
        "X_year = np.array(df.columns )"
      ],
      "metadata": {
        "id": "p-G0-oYuH1kr"
      },
      "execution_count": 5,
      "outputs": []
    },
    {
      "cell_type": "code",
      "source": [
        "fig,axe = plt.subplots(1,1,figsize = (10, 5))\n",
        "\n",
        "axe.plot(X_year,Y_cons.reshape(-1),label= 'Consumption')\n",
        "axe.plot(X_year,Y_Prod.reshape(-1),label= 'Production')\n",
        "#axe.set_title(\"Energy consumption and production \\n in the world from 1980 to 2021\" , fontname = 'serif')\n",
        "axe.set_xlabel('Years', fontname = 'serif')\n",
        "axe.set_ylabel('E [TWH]', fontname = 'serif')\n",
        "axe.set_xticks(X_year[::5])\n",
        "plt.legend()\n",
        "#plt.savefig('energy_consume_production.png',dpi=2000)"
      ],
      "metadata": {
        "colab": {
          "base_uri": "https://localhost:8080/",
          "height": 351
        },
        "id": "MGpwM-WcH3eL",
        "outputId": "8a06ee63-0602-4c6b-e6d6-8639bda7cbda"
      },
      "execution_count": 6,
      "outputs": [
        {
          "output_type": "execute_result",
          "data": {
            "text/plain": [
              "<matplotlib.legend.Legend at 0x7f041d736580>"
            ]
          },
          "metadata": {},
          "execution_count": 6
        },
        {
          "output_type": "display_data",
          "data": {
            "text/plain": [
              "<Figure size 720x360 with 1 Axes>"
            ],
            "image/png": "[encoded data removed]"
          },
          "metadata": {
            "needs_background": "light"
          }
        }
      ]
    },
    {
      "cell_type": "markdown",
      "source": [
        "## Regression"
      ],
      "metadata": {
        "id": "dV1Q2i6_Ubm4"
      }
    },
    {
      "cell_type": "code",
      "source": [
        "df = pd.read_csv(\"/content/Renewable-Energy-Project/Data/Energy_consumption_(OWD).csv\")"
      ],
      "metadata": {
        "id": "CyeRq_caao6G"
      },
      "execution_count": 7,
      "outputs": []
    },
    {
      "cell_type": "code",
      "source": [
        "X_year = np.array(df[df['Code'] == 'OWID_WRL']['Year'])"
      ],
      "metadata": {
        "id": "-0qqutQCbZEC"
      },
      "execution_count": 8,
      "outputs": []
    },
    {
      "cell_type": "code",
      "source": [
        "Y_cons = np.array(df[df['Code'] == 'OWID_WRL'].transpose().iloc[3:].sum())"
      ],
      "metadata": {
        "id": "B_mmB01mbrQQ"
      },
      "execution_count": 10,
      "outputs": []
    },
    {
      "cell_type": "code",
      "source": [
        "from sklearn.model_selection import train_test_split\n",
        "\n",
        "X_train, X_test, y_train, y_test = train_test_split(X_year.reshape(-1, 1), Y_cons.reshape(-1, 1) , test_size=0.5)"
      ],
      "metadata": {
        "id": "clD-9iCFW6XQ"
      },
      "execution_count": 11,
      "outputs": []
    },
    {
      "cell_type": "code",
      "source": [
        "from sklearn import datasets, linear_model\n",
        "from sklearn.metrics import mean_squared_error, r2_score\n",
        "\n",
        "# Create linear regression object\n",
        "regr = linear_model.LinearRegression()\n",
        "\n",
        "# Train the model using the training sets\n",
        "regr.fit( X_train, y_train)\n",
        "\n",
        "# Make predictions using the testing set\n",
        "y_pred = regr.predict(X_test)"
      ],
      "metadata": {
        "id": "etclRuZrZjCx"
      },
      "execution_count": 12,
      "outputs": []
    },
    {
      "cell_type": "code",
      "source": [
        "from matplotlib.lines import MarkerStyle\n",
        "# The coefficients\n",
        "print(\"Coefficients: %f \" % regr.coef_)\n",
        "# The intercept\n",
        "print(\"intercept: %f \" % regr.intercept_)\n",
        "# The mean squared error\n",
        "print(\"Mean squared error: %.2f\" % mean_squared_error(y_test, y_pred))\n",
        "# The coefficient of determination: 1 is perfect prediction\n",
        "print(\"Coefficient of determination: %.2f\" % r2_score(y_test, y_pred))\n"
      ],
      "metadata": {
        "colab": {
          "base_uri": "https://localhost:8080/"
        },
        "id": "33jLhr36Zxch",
        "outputId": "d4dfd085-3785-4eeb-ad8b-59d3e358ec8c"
      },
      "execution_count": 13,
      "outputs": [
        {
          "output_type": "stream",
          "name": "stdout",
          "text": [
            "Coefficients: 2079.945843 \n",
            "intercept: -4043064.369243 \n",
            "Mean squared error: 19230661.09\n",
            "Coefficient of determination: 0.98\n"
          ]
        }
      ]
    },
    {
      "cell_type": "code",
      "source": [
        "fig,axe = plt.subplots(1,1,figsize = (10, 5))\n",
        "# Plot outputs\n",
        "axe.scatter(X_train, y_train, color=\"maroon\" , s = 15 , label= \"actual data\" )\n",
        "axe.scatter(X_test, y_test, color=\"maroon\" , s = 15 )\n",
        "\n",
        "X_future = np.array([range(1965,2040,1)]).reshape(-1,1)\n",
        "y_future = regr.predict(X_future)\n",
        "sigma = np.sqrt(np.var(y_future[0:len(Y_cons.reshape(-1))].reshape(-1) - Y_cons.reshape(-1)))\n",
        "\n",
        "axe.plot(X_future , y_future , color=\"green\", linewidth=1 , label = \"fitted line\")\n",
        "axe.plot(X_future , y_future - sigma , color=\"green\", linewidth=1,  linestyle='dashed' , label = '1$\\sigma$ line'  )\n",
        "axe.plot(X_future , y_future + sigma , color=\"green\", linewidth=1,  linestyle='dashed' )\n",
        "\n",
        "\n",
        "#axe.set_title(\"Energy consumption in the world from 1965 to 2021 \\n and a fitted regression line with its 1$\\sigma$ lines\" , fontname = 'serif')\n",
        "axe.set_xlabel('Years', fontname = 'serif')\n",
        "axe.set_ylabel('E [TWH]', fontname = 'serif')\n",
        "plt.legend()\n",
        "\n",
        "plt.savefig('consume_Energy_LR.png',dpi=2000)"
      ],
      "metadata": {
        "colab": {
          "base_uri": "https://localhost:8080/",
          "height": 333
        },
        "id": "mD8RY71HLHHs",
        "outputId": "df72f431-7542-4504-8a93-9bc910cec0f4"
      },
      "execution_count": null,
      "outputs": [
        {
          "output_type": "display_data",
          "data": {
            "text/plain": [
              "<Figure size 720x360 with 1 Axes>"
            ],
            "image/png": "[encoded data removed]"
          },
          "metadata": {
            "needs_background": "light"
          }
        }
      ]
    },
    {
      "cell_type": "code",
      "source": [],
      "metadata": {
        "id": "unpu30ntdV-S"
      },
      "execution_count": null,
      "outputs": []
    }
  ]
}